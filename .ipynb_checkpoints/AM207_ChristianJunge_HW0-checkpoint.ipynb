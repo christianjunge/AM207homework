{
 "cells": [
  {
   "cell_type": "markdown",
   "metadata": {},
   "source": [
    "# **AM 207**: Homework 0"
   ]
  },
  {
   "cell_type": "markdown",
   "metadata": {},
   "source": [
    "_ _ _ _ _\n",
    "\n",
    "Verena Kaynig-Fittkau and Pavlos Protopapas  <br>\n",
    "Due: 11.59 P.M. Thursday February 4th, 2016\n",
    "\n",
    "**Instructions**:\n",
    "\n",
    "+ Upload your answers in an ipython notebook to Canvas.\n",
    "\n",
    "+ We will provide you imports for your ipython notebook. Please do not import additional libraries.\n",
    "\n",
    "+ Your individual submissions should use the following filenames: AM207_YOURNAME_HW0.ipynb\n",
    "\n",
    "+ Your code should be in code cells as part of your ipython notebook. Do not use a different language (or format). \n",
    "\n",
    "+ Do not just send your code. The homework solutions should be in a report style. Be sure to add comments to your code as well as markdown cells where you describe your approach and discuss your results. \n",
    "\n",
    "+ Please submit your notebook in an executed status, so that we can see all the results you computed. However, we will still run your code and all cells should reproduce the output when executed. \n",
    "\n",
    "+ If you have multiple files (e.g. you've added code files or images) create a tarball for all files in a single file and name it: AM207_YOURNAME_HW0.tar.gz or AM207_YOURNAME_HW0.zip\n",
    "\n",
    "_ _ _ _ _"
   ]
  },
  {
   "cell_type": "markdown",
   "metadata": {},
   "source": [
    "### Setting up your environment as described below is mandatory. \n",
    "### Submission of this homework is voluntary and it will not count against your grade. \n",
    "We still ask you to submit the homework to make sure the submission system is working. If you do not choose to do so it is your responsibility in case you do not succesfully submit HW1.\n",
    "\n",
    "---\n",
    "\n",
    "Welcome to AM 207 (http://am207.github.io/2016/).  In this class, we will be using a variety of tools that will require some initial configuration. To ensure everything goes smoothly moving forward, we will set up the majority of those tools in this homework. While some of this will likely be dull, doing it now will enable us to do more exciting work in the weeks that follow without getting bogged down in further software configuration. We are explicitly reserving the first week of the course for this assignment to give you time to do all the neccessary setup. Please use this time. Sometimes getting Pymc to work can be a bit tricky. \n",
    "\n",
    "## Piazza and Introduction\n",
    "\n",
    "\n",
    "**Piazza**\n",
    "\n",
    "Go to [Piazza](piazza.com/harvard/spring2016/am207) and sign up for the class using your Harvard e-mail address. \n",
    "\n",
    "You will use Piazza as a forum for discussion, to find team members, to arrange appointments, and to ask questions. Piazza should be your primary form of communication with the staff. Use the staff e-mail (am207tas@gmail.com) only for individual requests. All homework assignments, and project descriptions will be announced on Piazza. If you do not have a harvard email address, please write an email to Verena (vkaynig@seas.harvard.edu), and you will be added to Piazza. \n",
    "\n",
    "**Introduction**\n",
    "\n",
    "Once you are signed up to the Piazza course forum, introduce yourself to your classmates and course staff with a follow-up post in the introduction thread. Include your name/nickname, your affiliation, why you are taking this course, and tell us something interesting about yourself (e.g., an industry job, an unusual hobby, past travels, or a cool project you did, etc.).  \n",
    "\n",
    "## Programming expectations\n",
    "\n",
    "All the assignments and labs for this class will use Python and, for the most part, the browser-based IPython notebook format you are currently viewing. Knowledge of Python is not a prerequisite for this course, **provided you are comfortable learning on your own as needed**. While we have strived to make the programming component of this course straightforward, we will not devote much time to teaching prorgramming or Python syntax. Basically, you should feel comfortable with:\n",
    "\n",
    "* How to look up Python syntax on Google and StackOverflow.\n",
    "* Basic programming concepts like functions, loops, arrays, dictionaries, strings, and if statements.\n",
    "* How to learn new libraries by reading documentation.\n",
    "* Asking questions on StackOverflow or Piazza.\n",
    "\n",
    "There are many online tutorials to introduce you to scientific python programming. A small sample below\n",
    "\n",
    "* [An intro to scientific python](https://github.com/jrjohansson/scientific-python-lectures) that is very nice. Lectures 1-4 are most relevant to this class.\n",
    "* [Idiomatic Python](http://python.net/~goodger/projects/pycon/2007/idiomatic/handout.html)\n",
    "* [A video intro](http://pyvideo.org/video/2744/the-wonderful-world-of-scientific-computing-with) from SciPy 2014.\n",
    "\n",
    "\n",
    "## Getting and installing Python\n",
    "\n",
    "You will be using Python throughout the course, including many popular 3rd party Python libraries for scientific computing. [Anaconda](http://continuum.io/downloads) is an easy-to-install bundle of Python and most of these libraries. We **strongly** recommend that you use Anaconda for this course. If you insist on using your own Python setup instead of Anaconda, we will not provide any installation support, and are not responsible for you loosing points on homework assignments in case of inconsistencies. \n",
    "\n",
    "**For this course we are using Python 2.7, not Python 3.**\n",
    "\n",
    "Also see: http://docs.continuum.io/anaconda/install\n",
    "\n",
    "The **IPython** or **Jupyter** notebook runs in the browser, and works best in Google Chrome or Safari for me. You probably want to use one of these for assignments in this course.\n",
    "\n",
    "### Installing Anaconda\n",
    "\n",
    "The Anaconda Python distribution is an easily-installable bundle of Python and many of the libraries used throughout this class. Unless you have a good reason not to, we recommend that you use Anaconda.\n",
    "\n",
    "### Mac/Linux users\n",
    "\n",
    "1. Download the [appropriate version](http://continuum.io/downloads) of Anaconda. Make sure it is Python 2.7. \n",
    "1. Follow the instructions on that page to run the installer\n",
    "1. Test out the IPython notebook: open a Terminal window, and type `ipython notebook`. Or use the Anaconda Launcher which might have been deposited on your desktop. A new browser window should pop up. \n",
    "1. Click `New` at the upper right corner to create a new notebook file (choose Python 2). A new notebook should open in a new tab. **Trick**: give this notebook a unique name by clicking on `Untitled`, like `my-little-rose`. Use Spotlight (upper right corner of the mac desktop, looks like a maginifier) to search for this name. In this way, you will know which folder your notebook opens in by default.\n",
    "\n",
    "### Windows Users\n",
    "\n",
    "1. Download the [appropriate version](http://continuum.io/downloads) of Anaconda. Make sure it is Python 2.7\n",
    "1. Follow the instructions on that page to run the installer. This will typically create a directory at `C:\\Anaconda`\n",
    "1. Test it out: start the Anaconda launcher, which you can find in `C:\\Anaconda` or, in the Start menu. Start the IPython notebook. A new browser window should open. \n",
    "1. Click `New` at the upper right corner to create a new notebook file (choose Python 2). A new notebook should open in a new tab. **Trick**: give this notebook a unique name by clicking on `Untitled`, like `my-little-rose`. Use Spotlight (upper right corner of the mac desktop, looks like a maginifier) to search for this name. In this way, you will know which folder your notebook opens in by default.\n",
    "\n",
    "If you did not add Anaconda to your path, be sure to use the full path to the python and ipython executables, such as `/anaconda/bin/python`.\n",
    "\n",
    "If you already have installed Anaconda at some point in the past, you can easily update to the latest Anaconda version by updating conda, then Anaconda as follows:"
   ]
  },
  {
   "cell_type": "markdown",
   "metadata": {},
   "source": [
    "## Python Libraries\n",
    "\n",
    "To complete your installation you should first make sure all your libraries are up to date. Open a command line and execute the following commands:\n",
    "```\n",
    "conda update conda\n",
    "conda update anaconda\n",
    "conda update ipython\n",
    "```\n",
    "\n",
    "then you need to add two more libararies, which are conveniently provided as conda packages. All you need to do is again to execute the following commands:\n",
    "\n",
    "* for seaborn: \n",
    "\n",
    "`conda install seaborn`\n",
    "\n",
    "* for pymc: \n",
    "\n",
    "`conda install pymc`\n",
    "\n",
    "We will be using a several different libraries throughout this course. If you've successfully completed the installation instructions above, all of the following statements should run."
   ]
  },
  {
   "cell_type": "code",
   "execution_count": 1,
   "metadata": {
    "collapsed": false
   },
   "outputs": [
    {
     "name": "stdout",
     "output_type": "stream",
     "text": [
      "IPython version:       4.0.3 (need at least 4.0.3)\n",
      "Numpy version:        1.10.2 (need at least 1.10.1)\n",
      "SciPy version:        0.16.1 (need at least 0.16.0)\n",
      "Pandas version:       0.17.1 (need at least 0.17.1)\n",
      "Mapltolib version:     1.5.1 (need at least 1.5.1)\n",
      "Scikit-Learn version:   0.17 (need at least 0.17)\n",
      "Seaborn version:       0.7.0 (need at least 0.6.0)\n",
      "PyMC version:          2.3.6 (need at least 2.3.6)\n"
     ]
    }
   ],
   "source": [
    "#IPython is what you are using now to run the notebook\n",
    "import IPython\n",
    "print \"IPython version:      %6.6s (need at least 4.0.3)\" % IPython.__version__\n",
    "\n",
    "# Numpy is a library for working with Arrays\n",
    "import numpy as np\n",
    "print \"Numpy version:        %6.6s (need at least 1.10.1)\" % np.__version__\n",
    "\n",
    "# SciPy implements many different numerical algorithms\n",
    "import scipy as sp\n",
    "print \"SciPy version:        %6.6s (need at least 0.16.0)\" % sp.__version__\n",
    "\n",
    "# Pandas makes working with data tables easier\n",
    "import pandas as pd\n",
    "print \"Pandas version:       %6.6s (need at least 0.17.1)\" % pd.__version__\n",
    "\n",
    "# Module for plotting\n",
    "import matplotlib\n",
    "print \"Mapltolib version:    %6.6s (need at least 1.5.1)\" % matplotlib.__version__\n",
    "\n",
    "# SciKit Learn implements several Machine Learning algorithms\n",
    "import sklearn\n",
    "print \"Scikit-Learn version: %6.6s (need at least 0.17)\" % sklearn.__version__\n",
    "\n",
    "#Seaborn is a nice library for visualizations\n",
    "import seaborn\n",
    "print \"Seaborn version:      %6.6s (need at least 0.6.0)\" % seaborn.__version__\n",
    "\n",
    "#You'll use pymc later for sophisticated sampling\n",
    "import pymc\n",
    "print \"PyMC version:         %6.6s (need at least 2.3.6)\" % pymc.__version__\n",
    "\n",
    "# this actually imports matplotlib\n",
    "import matplotlib.pyplot as plt  \n",
    "\n",
    "# namedtuples are useful\n",
    "from collections import namedtuple"
   ]
  },
  {
   "cell_type": "markdown",
   "metadata": {},
   "source": [
    "If any of these libraries are missing or out of date, you will need to install them and **restart IPython**. This means you have to close the notebook and the running server and start a new one. Please see also the troubleshooting advice below."
   ]
  },
  {
   "cell_type": "markdown",
   "metadata": {},
   "source": [
    "### Troubleshooting\n",
    "You must be careful to make sure you are running the Anaconda version of python, since those operating systems come preinstalled with their own versions of python."
   ]
  },
  {
   "cell_type": "code",
   "execution_count": 2,
   "metadata": {
    "collapsed": false
   },
   "outputs": [
    {
     "name": "stdout",
     "output_type": "stream",
     "text": [
      "2.7.11 |Anaconda 2.4.1 (x86_64)| (default, Dec  6 2015, 18:57:58) \n",
      "[GCC 4.2.1 (Apple Inc. build 5577)]\n"
     ]
    }
   ],
   "source": [
    "import sys\n",
    "print sys.version"
   ]
  },
  {
   "cell_type": "markdown",
   "metadata": {},
   "source": [
    "This should output something like:\n",
    "`2.7.11 |Anaconda 2.4.1 (64-bit)| (default, Jan 19 2016, 12:08:31) [MSC v.1500 64 bit (AMD64)]`\n",
    "\n",
    "Again, please make sure the first number is 2.7, not 3.x\n",
    "\n",
    "**Problem**\n",
    "When you start python, you don't see a line like `Python 2.7.5 |Anaconda 1.6.1 (x86_64)|`. You are using a Mac or Linux computer\n",
    "\n",
    "**Reason**\n",
    "You are most likely running a different version of Python, and need to modify your Path (the list of directories your computer looks through to find programs). \n",
    "\n",
    "**Solution**\n",
    "Find a file like `.bash_profile`, `.bashrc`, or `.profile`. Open the file in a text editor, and add a line at this line at the end: `export PATH=\"$HOME/anaconda/bin:$PATH\"`. Close the file, open a new terminal window, type `source ~/.profile` (or whatever file you just edited). Type `which python` -- you should see a path that points to the anaconda directory. If so, running `python` should load the proper version\n",
    "\n",
    "If this doesn't work (typing `which python` doesn't point to anaconda), you might be using a different shell. Type `echo $SHELL`. If this isn't `bash`, you need to edit a different startup file (for example, if if `echo $SHELL` gives `$csh`, you need to edit your `.cshrc` file. The syntax for this file is slightly different: `set PATH = ($HOME/anaconda/bin $PATH)`\n",
    "***\n",
    "\n",
    "**Problem**\n",
    "You are running the right version of python (see above item), but are unable to import numpy. \n",
    "\n",
    "**Reason**\n",
    "You are probably loading a different copy of numpy that is incompatible with Anaconda\n",
    "\n",
    "**Solution**\n",
    "See the above item to find your `.bash_profile`, `.profile`, or `.bashrc` file. Open it, and add the line `unset PYTHONPATH` at the end. Close the file, open a new terminal window, type `source ~/.profile` (or whatever file you just edited), and try again.\n",
    "***\n",
    "\n",
    "**Problem**\n",
    "Under Windows, you receive an error message similar to the following: \"'pip' is not recognized as an internal or external command, operable program or batch file.\"\n",
    "\n",
    "**Reason**\n",
    "The correct Anaconda paths might not be present in your PATH variable, or Anaconda might not have installed correctly.\n",
    "\n",
    "**Solution**\n",
    "Ensure the Anaconda directories to your path environment variable (\"\\Anaconda\" and \"\\Anaconda\\Scripts\").  See [this page](http://superuser.com/questions/284342/what-are-path-and-other-environment-variables-and-how-can-i-set-or-use-them) for details.\n",
    "\n",
    "If this does not correct the problem, reinstall Anaconda.\n"
   ]
  },
  {
   "cell_type": "markdown",
   "metadata": {},
   "source": [
    "<hline>\n",
    "\n",
    "## Hello, Python\n",
    "\n",
    "The IPython notebook is an application to build interactive computational notebooks. You'll be using them to complete labs and homework. Once you've set up Python, please download this HW0 ipython notebook and open it with IPython by typing\n",
    "\n",
    "```\n",
    "ipython notebook <name_of_downloaded_file>\n",
    "```\n",
    "\n",
    "For the rest of the assignment, use your local copy of this page, running on IPython.\n",
    "\n",
    "Notebooks are composed of many \"cells\", which can contain text (like this one), or code (like the one below). Double click on the cell below, and evaluate it by clicking the \"play\" button above, or by hitting shift + enter"
   ]
  },
  {
   "cell_type": "code",
   "execution_count": 3,
   "metadata": {
    "collapsed": false
   },
   "outputs": [
    {
     "name": "stdout",
     "output_type": "stream",
     "text": [
      "Item is  10\n",
      "Item is  20\n",
      "Item is  30\n",
      "Item is  40\n",
      "Item is  50\n"
     ]
    }
   ],
   "source": [
    "x = [10, 20, 30, 40, 50]\n",
    "for item in x:\n",
    "    print \"Item is \", item"
   ]
  },
  {
   "cell_type": "markdown",
   "metadata": {},
   "source": [
    "## Hello matplotlib"
   ]
  },
  {
   "cell_type": "markdown",
   "metadata": {},
   "source": [
    "The notebook integrates nicely with Matplotlib, the primary plotting package for python. This should embed a figure of a sine wave:"
   ]
  },
  {
   "cell_type": "code",
   "execution_count": 4,
   "metadata": {
    "collapsed": false
   },
   "outputs": [
    {
     "data": {
      "image/png": "[encoded data removed]",
      "text/plain": [
       "<matplotlib.figure.Figure at 0x10c9b4810>"
      ]
     },
     "metadata": {},
     "output_type": "display_data"
    }
   ],
   "source": [
    "#this line prepares IPython for working with matplotlib\n",
    "%matplotlib inline  \n",
    "\n",
    "x = np.linspace(0, 10, 30)  #array of 30 points from 0 to 10\n",
    "y = np.sin(x)\n",
    "z = y + np.random.normal(size=30) * .2\n",
    "plt.plot(x, y, 'ro-', label='A sine wave')\n",
    "plt.plot(x, z, 'b-', label='Noisy sine')\n",
    "plt.legend(loc = 'lower right')\n",
    "plt.xlabel(\"X axis\")\n",
    "plt.ylabel(\"Y axis\")  \n",
    "plt.show()"
   ]
  },
  {
   "cell_type": "markdown",
   "metadata": {},
   "source": [
    "If that last cell complained about the `%matplotlib` line, you need to update IPython to v1.0, and restart the notebook. See the [installation page](https://github.com/cs109/content/wiki/Installing-Python)"
   ]
  },
  {
   "cell_type": "markdown",
   "metadata": {},
   "source": [
    "## Hello Numpy\n",
    "\n",
    "The Numpy array processing library is the basis of nearly all numerical computing in Python. Here's a 30 second crash course. For more details, consult Chapter 4 of Python for Data Analysis, or the [Numpy User's Guide](http://docs.scipy.org/doc/numpy-dev/user/index.html)"
   ]
  },
  {
   "cell_type": "code",
   "execution_count": 5,
   "metadata": {
    "collapsed": false
   },
   "outputs": [
    {
     "name": "stdout",
     "output_type": "stream",
     "text": [
      "Make a 3 row x 4 column array of random numbers\n",
      "[[ 0.13138659  0.74235695  0.20887682  0.41803813]\n",
      " [ 0.39091689  0.7214313   0.76957495  0.43150962]\n",
      " [ 0.60490217  0.98475533  0.69881306  0.7237513 ]]\n",
      "\n",
      "Add 1 to every element\n",
      "[[ 1.13138659  1.74235695  1.20887682  1.41803813]\n",
      " [ 1.39091689  1.7214313   1.76957495  1.43150962]\n",
      " [ 1.60490217  1.98475533  1.69881306  1.7237513 ]]\n",
      "\n",
      "Get the element at row 1, column 2\n",
      "1.76957494896\n",
      "\n",
      "Get the first row\n",
      "[ 1.13138659  1.74235695  1.20887682  1.41803813]\n",
      "\n",
      "Get every 2nd column of the first row\n",
      "[ 1.13138659  1.20887682]\n",
      "\n"
     ]
    }
   ],
   "source": [
    "print \"Make a 3 row x 4 column array of random numbers\"\n",
    "x = np.random.random((3, 4))\n",
    "print x\n",
    "print\n",
    "\n",
    "print \"Add 1 to every element\"\n",
    "x = x + 1\n",
    "print x\n",
    "print\n",
    "\n",
    "print \"Get the element at row 1, column 2\"\n",
    "print x[1, 2]\n",
    "print\n",
    "\n",
    "# The colon syntax is called \"slicing\" the array. \n",
    "print \"Get the first row\"\n",
    "print x[0, :]\n",
    "print\n",
    "\n",
    "print \"Get every 2nd column of the first row\"\n",
    "print x[0, ::2]\n",
    "print"
   ]
  },
  {
   "cell_type": "markdown",
   "metadata": {},
   "source": [
    "Print the maximum, minimum, and mean of the array. This does **not** require writing a loop. In the code cell below, type `x.m<TAB>`, to find built-in operations for common array statistics like this"
   ]
  },
  {
   "cell_type": "code",
   "execution_count": 12,
   "metadata": {
    "collapsed": false
   },
   "outputs": [
    {
     "name": "stdout",
     "output_type": "stream",
     "text": [
      "Maximum: 1.98475533465\n",
      "Minimum: 1.1313865887\n",
      "Mean:    1.56885942612\n"
     ]
    }
   ],
   "source": [
    "#your code here\n",
    "print 'Maximum:', x.max()\n",
    "print 'Minimum:', x.min()\n",
    "print 'Mean:   ', x.mean()"
   ]
  },
  {
   "cell_type": "markdown",
   "metadata": {},
   "source": [
    "Call the `x.max` function again, but use the `axis` keyword to print the maximum of each row in x."
   ]
  },
  {
   "cell_type": "code",
   "execution_count": 14,
   "metadata": {
    "collapsed": false
   },
   "outputs": [
    {
     "name": "stdout",
     "output_type": "stream",
     "text": [
      "Row Max: [ 1.74235695  1.76957495  1.98475533]\n"
     ]
    }
   ],
   "source": [
    "#your code here\n",
    "print 'Row Max:', x.max(axis=1)"
   ]
  },
  {
   "cell_type": "markdown",
   "metadata": {},
   "source": [
    "Here's a way to quickly simulate 500 coin \"fair\" coin tosses (where the probabily of getting Heads is 50%, or 0.5)"
   ]
  },
  {
   "cell_type": "code",
   "execution_count": 15,
   "metadata": {
    "collapsed": false
   },
   "outputs": [
    {
     "name": "stdout",
     "output_type": "stream",
     "text": [
      "number of heads: 252\n"
     ]
    }
   ],
   "source": [
    "x = np.random.binomial(500, .5)\n",
    "print \"number of heads:\", x"
   ]
  },
  {
   "cell_type": "markdown",
   "metadata": {},
   "source": [
    "Repeat this simulation 500 times, and use the [plt.hist() function](http://matplotlib.org/api/pyplot_api.html#matplotlib.pyplot.hist) to plot a histogram of the number of Heads (1s) in each simulation. Remember to label the axes. Play around a bit with the plotting to get a pretty picture. "
   ]
  },
  {
   "cell_type": "code",
   "execution_count": 19,
   "metadata": {
    "collapsed": false
   },
   "outputs": [
    {
     "data": {
      "image/png": "[encoded data removed]",
      "text/plain": [
       "<matplotlib.figure.Figure at 0x10cfccbd0>"
      ]
     },
     "metadata": {},
     "output_type": "display_data"
    }
   ],
   "source": [
    "#your code here\n",
    "x=[]\n",
    "for i in range(500):\n",
    "    x.append(np.random.binomial(500,.5))\n",
    "plt.hist(x);\n",
    "plt.xlabel('Number of Heads in Each Simulation')\n",
    "plt.ylabel('Number of Simulations')\n",
    "plt.title('Results of 500 Simulations');"
   ]
  },
  {
   "cell_type": "markdown",
   "metadata": {},
   "source": [
    "# The puppy problem: \n",
    "Maria's friend, Paparus, another statistics PhD, is thinking of getting a lovely puppy for his girlfriend. A desirable puppy should be less than 6 years old, taller than 20 cm but shorter than 35 cm. It also should weigh less than 40 lbs. \n",
    "Assume that the probability distribution for the age $a$ is an exponential distribution, and that the age is independent of the height and weight.\n",
    "\n",
    "$$a\\sim \\mbox{Expo(}\\lambda\\mbox{)} \\text{, with } \\lambda = 0.3$$ \n",
    "\n",
    "\n",
    "\n",
    "The joint distribution of height $h$ and weight $w$ is a bivariate normal distribution:\n",
    "\n",
    "$$(h,w)\\sim N(\\mu, \\Sigma) \\text{, with }  \\mu=(\\mu_h,\\mu_w) = (30, 25)   \\text{, and } \\Sigma = \\left(\\begin{array}{cc} 50 & 10\\\\  10 & 100 \\end{array}\\right).$$\n",
    "\n",
    "\n",
    "\n",
    "Estimate the probability that Paparus finds a desirable puppy. "
   ]
  },
  {
   "cell_type": "code",
   "execution_count": 194,
   "metadata": {
    "collapsed": false
   },
   "outputs": [
    {
     "data": {
      "image/png": "[encoded data removed]",
      "text/plain": [
       "<matplotlib.figure.Figure at 0x10f1a6090>"
      ]
     },
     "metadata": {},
     "output_type": "display_data"
    }
   ],
   "source": [
    "#your code here\n",
    "no_simulations = 100000\n",
    "lambdaa = 0.3\n",
    "ages = np.random.exponential(scale=1/lambdaa, size = no_simulations)\n",
    "# Set scale to 1/lambda because this np function uses beta (1/lambda) as the scale parameter\n",
    "plt.hist(ages);\n",
    "plt.xlabel(\"Age (yrs)\")\n",
    "plt.ylabel(\"Count\")\n",
    "plt.title(\"Histogram of \"+ str(no_simulations)+ \" simulations of Age\");"
   ]
  },
  {
   "cell_type": "code",
   "execution_count": 195,
   "metadata": {
    "collapsed": false
   },
   "outputs": [
    {
     "data": {
      "image/png": "[encoded data removed]",
      "text/plain": [
       "<matplotlib.figure.Figure at 0x10fb934d0>"
      ]
     },
     "metadata": {},
     "output_type": "display_data"
    }
   ],
   "source": [
    "mu = [30,25]\n",
    "cov = np.array([[50, 10],[10,100]])\n",
    "height_weight=np.random.multivariate_normal(mean=mu, cov=cov, size=no_simulations)\n",
    "plt.hist2d(height_weight[:,0],height_weight[:,1],bins =50);\n",
    "plt.xlabel(\"Height (cm)\")\n",
    "plt.ylabel(\"Weight (kg)\")\n",
    "plt.title(\"2d Histogram of 10,000 simulations of Puppy Height and Weight\");"
   ]
  },
  {
   "cell_type": "code",
   "execution_count": 196,
   "metadata": {
    "collapsed": false
   },
   "outputs": [],
   "source": [
    "# Because the age is independent from height/weight, I can simply combine the results of the \n",
    "#    two simulations to make one large simulation.\n",
    "\n",
    "# First, I need to reshape ages so that its axes line up with height_weight.\n",
    "ages = ages.reshape(no_simulations,1)\n",
    "\n",
    "# Next, I concatenate the simulations.  \n",
    "simulations = np.concatenate((ages,height_weight), axis=1)"
   ]
  },
  {
   "cell_type": "code",
   "execution_count": 197,
   "metadata": {
    "collapsed": false
   },
   "outputs": [
    {
     "data": {
      "text/plain": [
       "array([[  3.22367224,  23.05431721,  13.02676473],\n",
       "       [  4.24407224,  31.491422  ,  30.4687679 ],\n",
       "       [  5.8348176 ,  33.24659878,  24.67899536],\n",
       "       ..., \n",
       "       [  2.26132305,  34.20459308,  36.17479921],\n",
       "       [  7.11247476,  34.2712063 ,  35.6413838 ],\n",
       "       [  4.42336769,  29.87081998,  38.56180057]])"
      ]
     },
     "execution_count": 197,
     "metadata": {},
     "output_type": "execute_result"
    }
   ],
   "source": [
    "# Take a look to make sure this went correctly.  \n",
    "simulations"
   ]
  },
  {
   "cell_type": "code",
   "execution_count": 198,
   "metadata": {
    "collapsed": false
   },
   "outputs": [
    {
     "data": {
      "text/plain": [
       "array([  3.31414761,  30.00708696,  24.95668966])"
      ]
     },
     "execution_count": 198,
     "metadata": {},
     "output_type": "execute_result"
    }
   ],
   "source": [
    "# To make sure I know which column represents which variable, I look at the column means.  \n",
    "# Column 0 is age, Column 1 is height (with a mean near 30), and Column 2 is weight.  \n",
    "simulations.mean(axis=0)"
   ]
  },
  {
   "cell_type": "code",
   "execution_count": 199,
   "metadata": {
    "collapsed": false
   },
   "outputs": [
    {
     "name": "stdout",
     "output_type": "stream",
     "text": [
      "The probability of finding a desirable puppy is  0.53633\n"
     ]
    }
   ],
   "source": [
    "# To answer the question, I want to find the number of simulations where:\n",
    "#    column 0 is < 6\n",
    "#    column 1 is > 20 \n",
    "#    column 1 is < 35\n",
    "#    column 2 is < 40\n",
    "\n",
    "# I'm going to make a mask that I will update by combining all the conditions.\n",
    "mask = np.logical_and(simulations[:,0]<6, simulations[:,1]>20)\n",
    "mask = np.logical_and(mask, simulations[:,1]<35)\n",
    "mask = np.logical_and(mask, simulations[:,2]<40)\n",
    "print \"The probability of finding a desirable puppy is \", sum(mask)/float(no_simulations)"
   ]
  }
 ],
 "metadata": {
  "kernelspec": {
   "display_name": "Python 2",
   "language": "python",
   "name": "python2"
  },
  "language_info": {
   "codemirror_mode": {
    "name": "ipython",
    "version": 2
   },
   "file_extension": ".py",
   "mimetype": "text/x-python",
   "name": "python",
   "nbconvert_exporter": "python",
   "pygments_lexer": "ipython2",
   "version": "2.7.11"
  }
 },
 "nbformat": 4,
 "nbformat_minor": 0
}
